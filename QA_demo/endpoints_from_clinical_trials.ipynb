{
 "cells": [
  {
   "cell_type": "markdown",
   "id": "beb2fb72-ee28-4fc4-83db-6a0c79a81b6a",
   "metadata": {},
   "source": [
    "##### Canned question: Endpoints from clinical trials\n",
    "\n",
    "This is a simple demo showing how an LLM can summarize clinical trial features (such as endpoints) from the supporting trials listed in Translator results, enabling users to compare trial features side by side."
   ]
  },
  {
   "cell_type": "code",
   "execution_count": 3,
   "id": "2dbb88d0-e983-4ac7-bf08-e9ebb9ad8da6",
   "metadata": {},
   "outputs": [],
   "source": [
    "from clinical_trials_isb_client import get_clinical_trials_isb_info\n",
    "from ollama import Client\n",
    "from driver import load_trapi_response\n",
    "import json\n",
    "import summarizers.trapi_tools as tools"
   ]
  },
  {
   "cell_type": "code",
   "execution_count": 5,
   "id": "59067c29-df15-4df5-ac24-c951832c6eb7",
   "metadata": {},
   "outputs": [
    {
     "name": "stdout",
     "output_type": "stream",
     "text": [
      "There are 1344 unique edges in this response.\n",
      "Return 3 clincial trial IDs.\n"
     ]
    }
   ],
   "source": [
    "trapi_path = 'data/101635ed-6bb7-46fc-a2f1-96d814c34040.json'\n",
    "orig = load_trapi_response(trapi_path)\n",
    "kg_edges = orig['fields']['data']['message']['knowledge_graph']['edges']\n",
    "uniq = tools.extract_unique_edges(kg_edges.values())\n",
    "print(f\"There are {len(uniq)} unique edges in this response.\")\n",
    "ct_ids= []\n",
    "for edge in uniq:\n",
    "    ids = tools.extract_clinical_trials(edge)\n",
    "    ct_ids.extend(ids)\n",
    "ct_ids = list(set(ct_ids))\n",
    "print(f\"Return {len(ct_ids)} clincial trial IDs.\")"
   ]
  },
  {
   "cell_type": "code",
   "execution_count": 7,
   "id": "fe36c5a0-61ae-439b-a05e-c172b66a6eed",
   "metadata": {},
   "outputs": [],
   "source": [
    "# fetch the clinical trial objects from ISB API\n",
    "# TODO: discuss with the auther - results data like stats data was not included\n",
    "\n",
    "ct_info = await get_clinical_trials_isb_info(ct_ids)"
   ]
  },
  {
   "cell_type": "code",
   "execution_count": 2,
   "id": "c7e05717-fc31-49ff-beba-381504577bff",
   "metadata": {},
   "outputs": [],
   "source": [
    "# ct_info"
   ]
  },
  {
   "cell_type": "code",
   "execution_count": 91,
   "id": "39ac7f09-6969-425c-8929-76573835cf69",
   "metadata": {},
   "outputs": [],
   "source": [
    "# TODO: What are the interesting, useful, or frequently asked follow-up questions once endpoints are identified?  \n",
    "\n",
    "def generate_prompt(cts):\n",
    "    if len(cts) > 0: \n",
    "#         prompt = f\"\"\"Please summarize the primary and key secondary endpoints in the following clinical trials using concise bullet points. For each endpoint, note whether the trial achieved it based on reported results (include effect sizes if available). If an endpoint result is not reported, indicate ‘not reported.’ Present each trial in a standardized format with two sections: (1) Endpoints and (2) Results.\n",
    "# {cts}\n",
    "#         \"\"\"\n",
    "        prompt = f\"\"\"Please summarize the following clinical trials in a concise and standardized format. For each trial, present the information in three sections using concise bullet points:\n",
    "1. Trial Summary\n",
    "- Trial type\n",
    "- Number of participants\n",
    "- Summarize the trial in a concise way\n",
    "\n",
    "2. Endpoints\n",
    "- Primary endpoint(s)\n",
    "- Key secondary endpoint(s)\n",
    "\n",
    "3. Results\n",
    "- State whether each endpoint was achieved based on reported results\n",
    "- Include effect sizes if available\n",
    "- If results are not reported for an endpoint, state “not reported”\n",
    "\n",
    "Clinical Trails:\n",
    "{cts}\n",
    "\"\"\"        \n",
    "    else:\n",
    "        prompt = None\n",
    "\n",
    "    return prompt"
   ]
  },
  {
   "cell_type": "code",
   "execution_count": 93,
   "id": "db14dd8f-a6c6-432a-8c65-b3b1336d7954",
   "metadata": {},
   "outputs": [
    {
     "name": "stdout",
     "output_type": "stream",
     "text": [
      "Please summarize the following clinical trials in a concise and standardized format. For each trial, present the information in three sections using concise bullet points:\n",
      "1. Trial Summary\n",
      "- Trial type\n",
      "- Number of participants\n",
      "- Summarize the trial in a concise way\n",
      "\n",
      "2. Endpoints\n",
      "- Primary endpoint(s)\n",
      "- Key secondary endpoint(s)\n",
      "\n",
      "3. Results\n",
      "- State whether each endpoint was achieved based on reported results\n",
      "- Include effect sizes if available\n",
      "- If results are not reported for an endpoint, state “not reported”\n",
      "\n",
      "Clinical Trails:\n",
      "[{'protocolSection': {'outcomesModule': {'secondaryOutcomes': [{'measure': 'Improvement in Predictive Accuracy of Lung Nodule Diagnosis Using the C Statistic (Area Under the Curve, AUC)', 'time_frame': 'Through study completion, an average of 2 years and 6 months', 'description': 'The predictive accuracy of the lung nodule diagnosis model was assessed using the C statistic, also referred to as the area under the receiver operating characteristic (ROC) curve (AUC). Improved performance was defined as a statistically significant increase (p \\\\< 0.05) in the C statistic, determined using the DeLong test for comparing correlated ROC curves. The Mann-Whitney U test was also used to compare the distributions of the C statistic between diagnostic methods. Results are reported as the mean C statistic with 95% confidence intervals for each diagnostic method.'}], 'primaryOutcomes': [{'description': 'The diagnostic performance of ultrasonography and capnography in detecting malignant lung nodules was assessed using sensitivity, specificity, positive predictive value (PPV), negative predictive value (NPV), and accuracy. Sensitivity and specificity were calculated to determine the ability to correctly identify malignant and non-malignant nodules, respectively. Results were compared to a predefined threshold of 75%, with all percentages reported as proportions of the total number of nodules analyzed. Confidence intervals were calculated for each metric to ensure precision and reliability in the estimates.', 'time_frame': 'Through study completion, an average of 2 years and 6 months', 'measure': 'Diagnostic Performance Metrics (Sensitivity, Specificity, PPV, NPV, and Accuracy) of Ultrasonography and Capnography for Malignant Lung Nodules'}]}, 'sponsorCollaboratorsModule': {'leadSponsor': {'name': 'Andrei Iagaru', 'class': 'OTHER'}, 'collaborators': [{'class': 'OTHER', 'name': 'Canary Foundation'}, {'name': 'Boston University', 'class': 'OTHER'}, {'name': 'United States Department of Defense', 'class': 'FED'}]}, 'identificationModule': {'organization': {'fullName': 'Stanford University', 'class': 'OTHER'}, 'officialTitle': '18F-FSPG PET/CT and Integrated Biomarkers for Early Lung Cancer Detection in Patients With Indeterminate Pulmonary Nodules', 'briefTitle': '18F-FSPG PET/CT in Diagnosing Early Lung Cancer in Patients With Lung Nodules', 'nctId': 'NCT03824535'}, 'conditionsModule': {'keywords': ['Indeterminate lung nodule'], 'conditions': ['Cigarette Smoker', 'Current Smoker', 'Former Smoker', 'Multiple Pulmonary Nodules', 'Pulmonary Nodule']}, 'descriptionModule': {'briefSummary': 'This phase II trial studies how well 18F-FSPG positron emission tomography (PET)/computed tomography (CT) work in diagnosing early lung cancer in patients with indeterminate lung nodules. PET imaging with an imaging agent called 18F-FDG is often used in combination with a PET/CT scanner to evaluate cancers. Giving 18F-FSPG before a PET/CT scan may work better in helping researchers diagnose early lung cancer in patients with lung nodules.', 'detailedDescription': 'PRIMARY OBJECTIVES:~I. Comparison of fluorine F 18 L-glutamate derivative BAY94-9392 (18F-FSPG) accumulation with fludeoxyglucose F-18 (18F-FDG) accumulation to assess whether (4S)-4-(3-18F-Fluoropropyl)-L-Glutamate (18F-FSPG)-PET is better at discriminating between benign and malignant nodules.~SECONDARY OBJECTIVES:~I. To develop and validate early lung cancer detection biomarkers that would directly impact the growing need to integrate imaging and non-invasive molecular diagnostics for indeterminate pulmonary nodules and allow physicians to avoid unnecessary invasive procedures in patients with benign lung disease.~OUTLINE:~Patients receive 18F-FSPG intravenously (IV) and, undergo a PET/CT scan over 30-60 minutes. Within 24 hours-14 days, patients receive 18F-FDG and undergo a second PET/CT scan over 30-60 minutes.~After completion of study, patients are followed up within 24-72 hours.'}, 'designModule': {'designInfo': {'primaryPurpose': 'DIAGNOSTIC', 'maskingInfo': {'masking': 'NONE'}, 'interventionModel': 'SINGLE_GROUP'}, 'studyType': 'INTERVENTIONAL', 'phases': ['PHASE2']}, 'eligibilityModule': {'stdAges': ['ADULT', 'OLDER_ADULT'], 'minimumAge': '45 Years', 'healthyVolunteers': False, 'sex': 'ALL', 'eligibilityCriteria': 'Inclusion Criteria:~* Pulmonary nodule between the size of 7 to 30 mm. Subjects with multiple nodules may be eligible if the dominant nodule is 7 to 30 mm~* Undergoing standard of care 18F-FDG PET imaging (for indeterminate pulmonary nodule)~* Current or former cigarette smoker, with \\\\>= 20 pack years~* Documented informed consent~Exclusion Criteria:~* History or previous diagnosis of lung cancer~* Cancer diagnosis within the last 5 years~* Pregnant or nursing'}, 'statusModule': {'lastUpdateSubmitDate': '2025-04-07', 'studyFirstSubmitDate': '2019-01-29', 'statusVerifiedDate': '2025-04', 'completionDateStruct': {'type': 'ACTUAL', 'date': '2021-07-30'}, 'startDateStruct': {'date': '2019-02-04'}, 'studyFirstSubmitQcDate': '2019-01-29', 'primaryCompletionDateStruct': {'type': 'ACTUAL', 'date': '2021-07-30'}, 'studyFirstPostDateStruct': {'date': '2019-01-31', 'type': 'ACTUAL'}, 'overallStatus': 'COMPLETED', 'lastUpdatePostDateStruct': {'type': 'ACTUAL', 'date': '2025-04-09'}}}, 'hasResults': True}, {'hasResults': False, 'protocolSection': {'descriptionModule': {'briefSummary': 'This randomized, parallel controlled, single blind trial is designed to evaluate the efficacy and safety of hydromorphone versus morphine for perioperative analgesia in lung tumor ablation.', 'detailedDescription': 'Although the consensus of relevant guidelines and clinical studies recommend the use of opioids for perioperative analgesia in pulmonary tumor ablation surgery, there is a lack of specific analgesic programs for clinical reference. In view of the advantages of clinical application of hydromorphone and the lack of evidence for its application in perioperative analgesia of pulmonary tumor ablation, this study aims to explore the efficacy and safety of hydromorphone in perioperative analgesia of pulmonary tumor ablation, and provide some reference and suggestions for perioperative analgesia of pulmonary tumor ablation.'}, 'conditionsModule': {'conditions': ['Pulmonary Nodule', 'Ablation']}, 'identificationModule': {'organization': {'fullName': 'Qianfoshan Hospital', 'class': 'OTHER'}, 'officialTitle': 'Hydromorphone for Perioperative Analgesia in Lung Tumor Ablation Parallel Controlled ：A Randomized, Parallel Controlled Trial', 'briefTitle': 'Hydromorphone for Perioperative Analgesia in Lung Tumor Ablation Parallel Controlled', 'nctId': 'NCT05848635'}, 'designModule': {'designInfo': {'interventionModel': 'PARALLEL', 'maskingInfo': {'whoMasked': ['CARE_PROVIDER', 'PARTICIPANT'], 'masking': 'DOUBLE'}, 'primaryPurpose': 'TREATMENT', 'allocation': 'RANDOMIZED'}, 'studyType': 'INTERVENTIONAL', 'phases': ['PHASE4']}, 'eligibilityModule': {'eligibilityCriteria': 'Inclusion Criteria:~* Voluntarily attend and sign the informed consent form in person;~* Patients undergoing selective pulmonary tumor ablation;~* The Eastern Collaborative Oncology Group (ECOG) defines an activity status score of 2 or less;~* The estimated survival time is more than 3 months;~* Age 18-80, both sexes.~Exclusion Criteria:~* Severe coagulation dysfunction that cannot be corrected;~* History of severe cardio-cerebrovascular and respiratory diseases;~* Patients allergic to test drugs or contrast media;~* Patients with opioid addiction;~* Patients with cognitive dysfunction;~* Participated in other clinical investigators within three months;~* Investigators or their family members directly involved in the trial;~* Those who are deemed unfit to participate in the study by the investigator.', 'maximumAge': '80 Years', 'sex': 'ALL', 'minimumAge': '18 Years', 'healthyVolunteers': False, 'stdAges': ['ADULT', 'OLDER_ADULT']}, 'statusModule': {'lastUpdateSubmitDate': '2023-04-28', 'studyFirstSubmitDate': '2023-04-09', 'completionDateStruct': {'date': '2024-05-01', 'type': 'ESTIMATED'}, 'statusVerifiedDate': '2023-04', 'primaryCompletionDateStruct': {'date': '2024-05-01', 'type': 'ESTIMATED'}, 'startDateStruct': {'date': '2023-05-01'}, 'studyFirstSubmitQcDate': '2023-04-28', 'overallStatus': 'UNKNOWN', 'studyFirstPostDateStruct': {'date': '2023-05-08', 'type': 'ACTUAL'}, 'lastUpdatePostDateStruct': {'date': '2023-05-08', 'type': 'ACTUAL'}}, 'outcomesModule': {'secondaryOutcomes': [{'time_frame': 'perioperative period', 'measure': 'Incidence of adverse reactions', 'description': 'cases of adverse reactions / total cases \\\\* 100%'}], 'primaryOutcomes': [{'description': 'effective cases / total cases \\\\* 100%. The NRS（Numeric Rating Scale） score ≤3 at all evaluation time points is considered as effective analgesia.', 'time_frame': 'The analgesia is evaluated at 1 hour before surgery, 5 minutes after the beginning of ablation', 'measure': 'Analgesic efficiency'}]}, 'sponsorCollaboratorsModule': {'leadSponsor': {'class': 'OTHER', 'name': 'Qianfoshan Hospital'}}}}, {'hasResults': True, 'protocolSection': {'conditionsModule': {'conditions': ['Pulmonary Nodule'], 'keywords': ['pulmonary nodule']}, 'descriptionModule': {'detailedDescription': 'OBJECTIVES:~* To determine whether ultra short-term steroid therapy (24-48 hours) can be used to increase the accuracy of fludeoxyglucose F 18 positron emission tomography/computed tomography (FDG-PET/CT) imaging in categorizing nodules in patients with pulmonary nodules.~* To calculate the overall sensitivity and specificity of the nodules group, based on FDG uptake, for predicting malignancy.~* To gather effect-size estimates that will be used to improve the quality of a larger follow-up study.~OUTLINE: Patients receive oral dexamethasone at 40, 28, 16, and 4 hours before imaging. Patients undergo fludeoxyglucose F 18 (FDG)-positron emission tomography/computed tomography (PET/CT) imaging at baseline and upon completion of steroid therapy.~After completion of study therapy, patients are followed for 6 months.', 'briefSummary': \"RATIONALE: Imaging procedures, such as fludeoxyglucose F 18 (FDG)-PET/CT scan, done before and after steroid therapy may help doctors assess a patient's response to treatment and help plan the best treatment.~PURPOSE: This phase I trial is studying fludeoxyglucose F 18 PET scan performed before and after ultra short-term dexamethasone therapy to see how well it measures changes in nodules in patients with lung nodules.\"}, 'identificationModule': {'nctId': 'NCT00906503', 'organization': {'class': 'OTHER', 'fullName': 'Barbara Ann Karmanos Cancer Institute'}, 'officialTitle': 'Does Ultra Short-term Steroid Therapy Increase the Accuracy of FDG-PET/CT in Evaluation of Pulmonary Nodules?', 'briefTitle': 'Fludeoxyglucose F 18-PET/CT Scans in Patients Receiving Ultra Short-Term Dexamethasone For Lung Nodules'}, 'eligibilityModule': {'stdAges': ['ADULT', 'OLDER_ADULT'], 'healthyVolunteers': False, 'minimumAge': '18 Years', 'sex': 'ALL', 'eligibilityCriteria': 'DISEASE CHARACTERISTICS:~* Presence of ≥ 1 measurable pulmonary nodule (1.0-3.0 cm) suggestive of malignancy or chronic inflammatory process on positron emission tomography (PET) scan~* No lesions consistent with malignancy or inflammation according to history, PET findings, or biopsy~* Baseline scan average time between injection and start of scan within 50-70 min~  * Mean liver standardized uptake value (SUV) of baseline scan normal~ * No sign of significant partial paravenous tracer administration in the images of baseline scan~* No lung nodule(s) suggestive of lymphoma~* No lung lesions suggestive of tuberculosis~PATIENT CHARACTERISTICS:~* ECOG performance status 0-2~* Blood glucose levels ≤ 150 mg/100 mL~* Not pregnant or nursing~* Fertile patients must use effective contraception~* Able to tolerate PET/CT imaging~* No history of diabetes~* No poorly controlled hypertension~* No prior malignancy other than basal cell or squamous cell carcinoma of the skin, carcinoma in situ, or other cancer from which the participant has been disease free for \\\\< 3 years~  * No active malignancy within the past 5 years~PRIOR CONCURRENT THERAPY:~* More than 5 years since prior chemotherapy or radiotherapy~* No concurrent steroids'}, 'statusModule': {'statusVerifiedDate': '2015-03', 'completionDateStruct': {'date': '2012-04', 'type': 'ACTUAL'}, 'studyFirstSubmitDate': '2009-05-20', 'lastUpdateSubmitDate': '2015-03-18', 'lastUpdatePostDateStruct': {'date': '2015-04-07', 'type': 'ESTIMATED'}, 'studyFirstPostDateStruct': {'date': '2009-05-21', 'type': 'ESTIMATED'}, 'overallStatus': 'COMPLETED', 'startDateStruct': {'date': '2009-04'}, 'studyFirstSubmitQcDate': '2009-05-20', 'primaryCompletionDateStruct': {'date': '2011-02', 'type': 'ACTUAL'}}, 'designModule': {'designInfo': {'interventionModel': 'SINGLE_GROUP', 'maskingInfo': {'masking': 'NONE'}, 'primaryPurpose': 'DIAGNOSTIC'}, 'phases': ['PHASE1'], 'studyType': 'INTERVENTIONAL'}, 'outcomesModule': {'primaryOutcomes': [{'time_frame': '24-48 hours', 'measure': 'Feasibility of Ultra Short-term Steroid Therapy to Increase the Accuracy of FDG-PET/CT Imaging', 'description': 'The blood glucose of all patients will be checked by accu-check before the injection of 18F-FDG. The acceptable blood glucose level will be ≤120 mg/dl. Any participant experienced elevated fasting blood glucose of more than 120 mg/dl after steroid therapy, he /she will be asked to come back to the PET center within 48 hours to check the blood glucose level. If the blood glucose level did not decline to baseline level, the participant will be asked to follow with his/her family doctor for management. Participants with history of systemic hypertension will be monitored for increased blood pressure. After 50-to-70 minutes period for FDG incorporation into presumed lesions, patient will under go a limited 18F-FDG PET/CT for the area of the interest (1-2 bed positions). PET imaging will be performed using a GE Discovery STE PET/CT system (GE Medical Systems, Milwaukee, WI).'}]}, 'sponsorCollaboratorsModule': {'collaborators': [{'class': 'NIH', 'name': 'National Cancer Institute (NCI)'}], 'leadSponsor': {'class': 'OTHER', 'name': 'Barbara Ann Karmanos Cancer Institute'}}}}]\n",
      "\n"
     ]
    }
   ],
   "source": [
    "print(generate_prompt(ct_info.get('studies', None)))"
   ]
  },
  {
   "cell_type": "code",
   "execution_count": 95,
   "id": "0f28c8b5-fa59-4efb-b6cc-65acf96a1ff9",
   "metadata": {},
   "outputs": [
    {
     "name": "stdout",
     "output_type": "stream",
     "text": [
      "**Trial 1 – NCT03824535**  \n",
      "*18F‑FSPG PET/CT in Diagnosing Early Lung Cancer in Patients With Lung Nodules*  \n",
      "\n",
      "**Trial Summary**  \n",
      "- **Trial type:** Diagnostic, Phase II, Interventional, single‑group.  \n",
      "- **Participants:** Number not reported.  \n",
      "- **Brief summary:** Evaluates the ability of 18F‑FSPG PET/CT to discriminate benign from malignant pulmonary nodules, comparing it to standard 18F‑FDG PET/CT.  \n",
      "\n",
      "**Endpoints**  \n",
      "- **Primary:** Sensitivity, specificity, PPV, NPV, and overall accuracy of ultrasonography and capnography for malignant nodule detection (note: outcome metrics appear mismatched to the imaging modality described).  \n",
      "- **Key secondary:** Improvement in predictive accuracy measured by the C‑statistic (AUC).  \n",
      "\n",
      "**Results**  \n",
      "- Primary outcome: **not reported**.  \n",
      "- Secondary outcome: **not reported**.  \n",
      "\n",
      "\n",
      "---  \n",
      "\n",
      "**Trial 2 – NCT05848635**  \n",
      "*Hydromorphone for Perioperative Analgesia in Lung Tumor Ablation Parallel Controlled*  \n",
      "\n",
      "**Trial Summary**  \n",
      "- **Trial type:** Treatment, Phase IV, Randomized, Parallel, Double‑blind.  \n",
      "- **Participants:** Number not reported.  \n",
      "- **Brief summary:** Assesses whether hydromorphone provides superior peri‑operative analgesia compared with morphine in patients undergoing lung tumor ablation.  \n",
      "\n",
      "**Endpoints**  \n",
      "- **Primary:** Analgesic efficiency – proportion of patients achieving an NRS ≤ 3 at all evaluation time points (1 h pre‑op, 5 min post‑ablation).  \n",
      "- **Key secondary:** Incidence of adverse reactions during the peri‑operative period.  \n",
      "\n",
      "**Results**  \n",
      "- Primary outcome: **not reported**.  \n",
      "- Secondary outcome: **not reported**.  \n",
      "\n",
      "\n",
      "---  \n",
      "\n",
      "**Trial 3 – NCT00906503**  \n",
      "*Does Ultra Short‑term Steroid Therapy Increase the Accuracy of FDG‑PET/CT in Evaluation of Pulmonary Nodules?*  \n",
      "\n",
      "**Trial Summary**  \n",
      "- **Trial type:** Diagnostic, Phase I, Interventional, Single‑group.  \n",
      "- **Participants:** Number not reported.  \n",
      "- **Brief summary:** Investigates whether a 24–48 h course of dexamethasone improves FDG‑PET/CT accuracy for distinguishing malignant from benign pulmonary nodules.  \n",
      "\n",
      "**Endpoints**  \n",
      "- **Primary:** Feasibility of ultra‑short‑term steroid therapy to enhance FDG‑PET/CT accuracy (measured via blood‑glucose control and imaging feasibility).  \n",
      "- **Key secondary:** Overall sensitivity and specificity of FDG uptake for malignancy prediction.  \n",
      "\n",
      "**Results**  \n",
      "- Primary outcome: **not reported**.  \n",
      "- Secondary outcome: **not reported**.  \n",
      "\n",
      "---  \n",
      "\n",
      "*All trials had “hasResults: true/false” flags but specific numeric effect sizes or statistical outcomes were not provided in the available data.*\n"
     ]
    }
   ],
   "source": [
    "client = Client()\n",
    "prompt = generate_prompt(ct_info.get('studies', None))\n",
    "# print(prompt)\n",
    "if prompt:\n",
    "    messages = [\n",
    "      {\n",
    "        'role': 'user',\n",
    "        'content': prompt,\n",
    "      },\n",
    "    ]\n",
    "    \n",
    "    response = client.chat(\n",
    "        model='gpt-oss:20b',\n",
    "        messages=messages,\n",
    "        options={'num_ctx': 8192},  # 8192 is the recommended lower limit for the context window\n",
    "      )\n",
    "\n",
    "    response_content = response['message']['content']\n",
    "else:\n",
    "    response_content = \"There isn't clinical trial information in the result.\"\n",
    "\n",
    "print(response_content)"
   ]
  }
 ],
 "metadata": {
  "kernelspec": {
   "display_name": "trapiQA",
   "language": "python",
   "name": "trapiqa"
  },
  "language_info": {
   "codemirror_mode": {
    "name": "ipython",
    "version": 3
   },
   "file_extension": ".py",
   "mimetype": "text/x-python",
   "name": "python",
   "nbconvert_exporter": "python",
   "pygments_lexer": "ipython3",
   "version": "3.13.5"
  }
 },
 "nbformat": 4,
 "nbformat_minor": 5
}
